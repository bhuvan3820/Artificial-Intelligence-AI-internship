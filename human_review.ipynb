{
 "cells": [
  {
   "cell_type": "code",
   "execution_count": 2,
   "id": "38fc1aed",
   "metadata": {},
   "outputs": [],
   "source": [
    "import os\n",
    "\n",
    "# Create folder if it doesn't exist\n",
    "os.makedirs(\"ai_writer\", exist_ok=True)\n",
    "\n",
    "# Optional: create and write dummy text to avoid the read error\n",
    "with open(\"ai_writer/rewritten_chapter.txt\", \"w\", encoding=\"utf-8\") as f:\n",
    "    f.write(\"This is a placeholder rewritten chapter. Replace with actual content.\")\n",
    "\n"
   ]
  }
 ],
 "metadata": {
  "kernelspec": {
   "display_name": "new_kernel",
   "language": "python",
   "name": "new_kernel"
  },
  "language_info": {
   "codemirror_mode": {
    "name": "ipython",
    "version": 3
   },
   "file_extension": ".py",
   "mimetype": "text/x-python",
   "name": "python",
   "nbconvert_exporter": "python",
   "pygments_lexer": "ipython3",
   "version": "3.12.1"
  }
 },
 "nbformat": 4,
 "nbformat_minor": 5
}
