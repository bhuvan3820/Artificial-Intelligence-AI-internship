{
 "cells": [
  {
   "cell_type": "code",
   "execution_count": null,
   "id": "261fe756",
   "metadata": {},
   "outputs": [],
   "source": [
    "#Project Title:\n",
    "#Automated Book Publication Workflow\n",
    "\n"
   ]
  },
  {
   "cell_type": "code",
   "execution_count": null,
   "id": "e707d757",
   "metadata": {},
   "outputs": [],
   "source": [
    "#Overview:\n",
    "'''This Python project automates content capture, AI rewriting, human-in-the-loop revision, and content storage \n",
    "with smart retrieval—just like a real publishing pipeline.'''"
   ]
  },
  {
   "cell_type": "code",
   "execution_count": null,
   "id": "72bb5ada",
   "metadata": {},
   "outputs": [],
   "source": [
    "pip install selenium\n",
    "pip install pillow\n",
    "pip install chromadb\n",
    "pip install playwright"
   ]
  },
  {
   "cell_type": "code",
   "execution_count": 16,
   "id": "22827fb0",
   "metadata": {},
   "outputs": [],
   "source": [
    "#import \n",
    "import os  #Handles folder creation and file paths.\n",
    "import time #Adds delay for webpage loading.\n",
    "import uuid # Generates unique IDs.\n",
    "import webbrowser #Opens files like PDFs in the default browser.\n",
    "from selenium import webdriver # Automates browser tasks like scrolling and screenshots.\n",
    "from PIL import Image # Converts and processes screenshots into a PDF.\n",
    "from chromadb import PersistentClient #Stores and retrieves text using AI-based vector search."
   ]
  },
  {
   "cell_type": "code",
   "execution_count": 17,
   "id": "439742b6",
   "metadata": {},
   "outputs": [],
   "source": [
    "# Step 1: Take Screenshots\n",
    "def take_screenshots():  # Starts the screenshot function.\n",
    "    print(\" Taking screenshots...\")\n",
    "\n",
    "    url = \"https://en.wikisource.org/wiki/The_Gates_of_Morning/Book_1/Chapter_1\"  # URL of the chapter.\n",
    "\n",
    "    screenshot_dir = \"ai_writer/screenshots\"  # Folder to save screenshots.\n",
    "    os.makedirs(screenshot_dir, exist_ok=True)  # Create the folder if it doesn't exist.\n",
    "\n",
    "    options = webdriver.ChromeOptions()  # Set browser options.\n",
    "    options.add_argument(\"--headless\")  # Run Chrome without opening a window.\n",
    "    options.add_argument(\"--window-size=1920,3000\")  # Set browser size for full page.\n",
    "\n",
    "    driver = webdriver.Chrome(options=options)  # Launch Chrome with settings.\n",
    "    driver.get(url)  # Open the chapter URL.\n",
    "    time.sleep(3)  # Wait for the content to load.\n",
    "\n",
    "    total_height = driver.execute_script(\"return document.body.scrollHeight\")  # Get total page height.\n",
    "    view_height = 900  # Height of each screenshot viewport.\n",
    "    scrolls = total_height // view_height + 1  # Calculate number of scrolls needed.\n",
    "\n",
    "    for i in range(scrolls):  # Loop through each section of the page.\n",
    "        driver.execute_script(f\"window.scrollTo(0, {i * view_height});\")  # Scroll to the next part.\n",
    "        time.sleep(1)  # Small delay to let the scroll complete.\n",
    "        screenshot_path = os.path.join(screenshot_dir, f\"chapter1_{i+1:02d}.png\")  # Path for each image.\n",
    "        driver.save_screenshot(screenshot_path)  # Take and save the screenshot.\n",
    "        print(f\" Saved: {screenshot_path}\")  # Log the saved file.\n",
    "\n",
    "    driver.quit()  # Close the browser after all screenshots are taken.\n"
   ]
  },
  {
   "cell_type": "code",
   "execution_count": 18,
   "id": "fcda9001",
   "metadata": {},
   "outputs": [],
   "source": [
    "# Step 2: Convert Screenshots to PDF\n",
    "# Converts the .png screenshots to a single .pdf file.\n",
    "def screenshots_to_pdf():\n",
    "    print(\" Converting screenshots to PDF...\")\n",
    "\n",
    "    screenshot_dir = \"ai_writer/screenshots\"  # Folder where screenshots are saved.\n",
    "    images = []  # List to store image objects.\n",
    "\n",
    "    # Loop through sorted screenshot files.\n",
    "    for filename in sorted(os.listdir(screenshot_dir)):\n",
    "        if filename.endswith(\".png\"):  # Only process PNG files.\n",
    "            path = os.path.join(screenshot_dir, filename)  # Full path of image.\n",
    "            img = Image.open(path).convert(\"RGB\")  # Open image and convert to RGB.\n",
    "            images.append(img)  # Add image to list.\n",
    "\n",
    "    pdf_path = \"ai_writer/final_chapter_screenshots.pdf\"  # Output PDF path.\n",
    "\n",
    "    if images:\n",
    "        # Save all images into one PDF.\n",
    "        images[0].save(pdf_path, save_all=True, append_images=images[1:])\n",
    "        print(f\" PDF created at: {pdf_path}\")\n",
    "    else:\n",
    "        print(\" No PNG images found.\")  # Error if no screenshots were found.\n"
   ]
  },
  {
   "cell_type": "code",
   "execution_count": 19,
   "id": "d684333c",
   "metadata": {},
   "outputs": [],
   "source": [
    "# Step 3: Simulate AI Writing and Review\n",
    "# Simulates how an AI writer rewrites content by changing a name.\n",
    "# It creates a tool (function) that will take a sentence or paragraph and modify it — like an AI writing assistant.\n",
    "def ai_writer(text):\n",
    "    return text.replace(\"Dick\", \"Taori\")  # Replaces \"Dick\" with \"Taori\"\n",
    "\n",
    "# Simulates how an AI reviewer edits or refines content further.\n",
    "#It acts like an AI content editor — it reviews and slightly modifies the text to improve or refine it (e.g., updating names, titles, or tone).\n",
    "def ai_reviewer(text):\n",
    "    return text.replace(\"Taori\", \"Chief Taori\")  # Replaces \"Taori\" with \"Chief Taori\"\n"
   ]
  },
  {
   "cell_type": "code",
   "execution_count": 20,
   "id": "3d6157db",
   "metadata": {},
   "outputs": [],
   "source": [
    "# Step 4: Save Final Text\n",
    "# This step rewrites the sample chapter text using AI-like logic by replacing names and saves the final reviewed version to a text file.\n",
    "def save_reviewed_text():\n",
    "    text = \"\"\"The Gates of Morning\\nCHAPTER I – The Canoe Builder\\nDick stood on a coral ledge looking out to sea...\"\"\"\n",
    "    rewritten = ai_writer(text)               # AI writer transforms the text\n",
    "    reviewed = ai_reviewer(rewritten)        # AI reviewer edits the rewritten text\n",
    "\n",
    "    path = \"ai_writer/final_reviewed_chapter.txt\"\n",
    "    os.makedirs(\"ai_writer\", exist_ok=True)  # Creates output folder if not present\n",
    "    with open(path, \"w\", encoding=\"utf-8\") as f:\n",
    "        f.write(reviewed)                    # Saves the reviewed text to a .txt file\n",
    "\n",
    "    print(f\" Final text saved to: {path}\")\n",
    "    return reviewed                          # Returns the final reviewed text\n"
   ]
  },
  {
   "cell_type": "code",
   "execution_count": 21,
   "id": "32e7ebb5",
   "metadata": {},
   "outputs": [],
   "source": [
    "# Step 5: Save to ChromaDB\n",
    "# Stores the reviewed chapter text in ChromaDB for versioning and search.\n",
    "def save_to_chromadb(text):\n",
    "    print(\" Saving to ChromaDB...\")\n",
    "    client = PersistentClient(path=\"chromadb_store\")              # Connects to ChromaDB using a persistent storage path\n",
    "    collection = client.get_or_create_collection(\"chapters\")      # Gets or creates a collection named 'chapters'\n",
    "    collection.add(documents=[text], metadatas=[{\"chapter\": \"1\"}], ids=[\"ch1-v1\"])  # Adds the text with metadata and a unique ID\n",
    "    print(\" Text saved to ChromaDB.\")\n"
   ]
  },
  {
   "cell_type": "code",
   "execution_count": 22,
   "id": "c798e327",
   "metadata": {},
   "outputs": [],
   "source": [
    "# Step 6:  Reinforcement Learning Search (RL) Search Simulation\n",
    "# Performs a similarity search in ChromaDB to find the most relevant document for a given query.\n",
    "def rl_search(query):\n",
    "    client = PersistentClient(path=\"chromadb_store\")                          # Connects to the ChromaDB store\n",
    "    collection = client.get_or_create_collection(\"chapters\")                 # Retrieves the 'chapters' collection\n",
    "    results = collection.query(query_texts=[query], n_results=1)             # Searches for the top matching document\n",
    "    return results['documents'][0][0]                                        # Returns the top matched document\n"
   ]
  },
  {
   "cell_type": "code",
   "execution_count": 23,
   "id": "d01e3b5a",
   "metadata": {},
   "outputs": [],
   "source": [
    "# Step 7: Run Everything\n",
    "# Executes the complete end-to-end workflow from scraping to search.\n",
    "def run_pipeline():\n",
    "    print(\" Starting full workflow...\")                         # Signals start of the automated process\n",
    "    take_screenshots()                                           # Captures webpage screenshots\n",
    "    screenshots_to_pdf()                                         # Converts screenshots into a single PDF\n",
    "    final_text = save_reviewed_text()                            # Applies AI writing and saves final chapter\n",
    "    save_to_chromadb(final_text)                                 # Stores final text in ChromaDB\n",
    "    result = rl_search(\"canoe builder\")                          # Performs a search query using RL logic\n",
    "    print(f\"\\n RL Search Output: {result}\")                     # Prints the best matching result\n"
   ]
  },
  {
   "cell_type": "code",
   "execution_count": 24,
   "id": "6f4b7f7b",
   "metadata": {},
   "outputs": [
    {
     "name": "stdout",
     "output_type": "stream",
     "text": [
      " Starting full workflow...\n",
      " Taking screenshots...\n",
      " Saved: ai_writer/screenshots\\chapter1_01.png\n",
      " Saved: ai_writer/screenshots\\chapter1_02.png\n",
      " Saved: ai_writer/screenshots\\chapter1_03.png\n",
      " Saved: ai_writer/screenshots\\chapter1_04.png\n",
      " Saved: ai_writer/screenshots\\chapter1_05.png\n",
      " Saved: ai_writer/screenshots\\chapter1_06.png\n",
      " Converting screenshots to PDF...\n",
      " PDF created at: ai_writer/final_chapter_screenshots.pdf\n",
      " Final text saved to: ai_writer/final_reviewed_chapter.txt\n",
      " Saving to ChromaDB...\n",
      " Text saved to ChromaDB.\n",
      "\n",
      " RL Search Output: The Gates of Morning\n",
      "CHAPTER I – The Canoe Builder\n",
      "Chief Taori stood on a coral ledge looking out to sea...\n"
     ]
    }
   ],
   "source": [
    "# Execute the full pipeline\n",
    "run_pipeline()"
   ]
  },
  {
   "cell_type": "code",
   "execution_count": 26,
   "id": "183f0247",
   "metadata": {},
   "outputs": [
    {
     "data": {
      "text/plain": [
       "True"
      ]
     },
     "execution_count": 26,
     "metadata": {},
     "output_type": "execute_result"
    }
   ],
   "source": [
    "import webbrowser\n",
    "import os\n",
    "#Opens the final_chapter_screenshots.pdf file using the system's default web browser.\n",
    "webbrowser.open(\"file://\" + os.path.abspath(\"ai_writer/final_chapter_screenshots.pdf\"))"
   ]
  },
  {
   "cell_type": "code",
   "execution_count": 27,
   "id": "ca244707",
   "metadata": {},
   "outputs": [
    {
     "data": {
      "text/plain": [
       "True"
      ]
     },
     "execution_count": 27,
     "metadata": {},
     "output_type": "execute_result"
    }
   ],
   "source": [
    "import webbrowser\n",
    "import os\n",
    "\n",
    "text_path = os.path.abspath(\"ai_writer/final_reviewed_chapter.txt\")\n",
    "webbrowser.open(\"file://\" + text_path)\n"
   ]
  },
  {
   "cell_type": "code",
   "execution_count": 13,
   "id": "bd896d8b",
   "metadata": {},
   "outputs": [
    {
     "data": {
      "text/plain": [
       "True"
      ]
     },
     "execution_count": 13,
     "metadata": {},
     "output_type": "execute_result"
    }
   ],
   "source": [
    "import webbrowser\n",
    "import os\n",
    "#Opens the final_chapter_screenshots.pdf file using the system's default web browser.\n",
    "webbrowser.open(\"file://\" + os.path.abspath(\"ai_writer/final_chapter_screenshots.pdf\"))\n"
   ]
  }
 ],
 "metadata": {
  "kernelspec": {
   "display_name": "new_venv",
   "language": "python",
   "name": "python3"
  },
  "language_info": {
   "codemirror_mode": {
    "name": "ipython",
    "version": 3
   },
   "file_extension": ".py",
   "mimetype": "text/x-python",
   "name": "python",
   "nbconvert_exporter": "python",
   "pygments_lexer": "ipython3",
   "version": "3.12.1"
  }
 },
 "nbformat": 4,
 "nbformat_minor": 5
}
